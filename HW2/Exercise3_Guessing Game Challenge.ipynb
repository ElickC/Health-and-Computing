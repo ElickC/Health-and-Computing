{
 "cells": [
  {
   "cell_type": "markdown",
   "metadata": {},
   "source": [
    "# Guessing Game Challenge\n",
    "\n",
    "Let's use `while` loops to create a guessing game.\n",
    "\n",
    "The Challenge:\n",
    "\n",
    "Write a program that picks a random integer from 1 to 100, and has players guess the number. The rules are:\n",
    "\n",
    "1. If a player's guess is less than 1 or greater than 100, say \"OUT OF BOUNDS\"\n",
    "2. On a player's first turn, if their guess is\n",
    " * within 10 of the number, return \"WARM!\"\n",
    " * further than 10 away from the number, return \"COLD!\"\n",
    "3. On all subsequent turns, if a guess is \n",
    " * closer to the number than the previous guess return \"WARMER!\"\n",
    " * farther from the number than the previous guess, return \"COLDER!\"\n",
    "4. When the player's guess equals the number, tell them they've guessed correctly *and* how many guesses it took!\n",
    "\n",
    "You can try this from scratch, or follow the steps outlined below. A separate Solution notebook has been provided. Good luck!\n"
   ]
  },
  {
   "cell_type": "markdown",
   "metadata": {},
   "source": [
    "#### First, pick a random integer from 1 to 100 using the random module and assign it to a variable\n",
    "\n",
    "Note: `random.randint(a,b)` returns a random integer in range `[a, b]`, including both end points."
   ]
  },
  {
   "cell_type": "code",
   "execution_count": 2,
   "metadata": {},
   "outputs": [
    {
     "name": "stdout",
     "output_type": "stream",
     "text": [
      "79\n"
     ]
    }
   ],
   "source": [
    "import random\n",
    "x = random.randint(1,100)\n",
    "print(x)"
   ]
  },
  {
   "cell_type": "markdown",
   "metadata": {},
   "source": [
    "#### Next, print an introduction to the game and explain the rules"
   ]
  },
  {
   "cell_type": "code",
   "execution_count": 2,
   "metadata": {},
   "outputs": [
    {
     "name": "stdout",
     "output_type": "stream",
     "text": [
      "Welcome to the Guessing Game Challenge! \n",
      " You must guess the number I pick which is between 1 and 100 inclusive. \n",
      " If you do not pick within these bounds you will see OUT OF BOUNDS \n",
      " If you are within 10 you will see WARM \n",
      " Otherwise you will see COLD \n",
      " if a subsequent turn is closer you will see WARMER, otherwise COLDER \n",
      " When you guess correctly, you will see how many guesses you took.\n"
     ]
    }
   ],
   "source": [
    "print(\"Welcome to the Guessing Game Challenge! \\n You must guess the number I pick which is between 1 and 100 inclusive. \\n If you do not pick within these bounds you will see OUT OF BOUNDS \\n If you are within 10 you will see WARM \\n Otherwise you will see COLD \\n if a subsequent turn is closer you will see WARMER, otherwise COLDER \\n When you guess correctly, you will see how many guesses you took.\")"
   ]
  },
  {
   "cell_type": "markdown",
   "metadata": {},
   "source": [
    "#### Create a list to store guesses\n",
    "\n",
    "Hint: zero is a good placeholder value. It's useful because it evaluates to \"False\""
   ]
  },
  {
   "cell_type": "code",
   "execution_count": 7,
   "metadata": {},
   "outputs": [
    {
     "name": "stdout",
     "output_type": "stream",
     "text": [
      "[0]\n"
     ]
    }
   ],
   "source": [
    "guesses = [0]\n",
    "print(guesses)"
   ]
  },
  {
   "cell_type": "markdown",
   "metadata": {},
   "source": [
    "#### Write a `while` loop that asks for a valid guess. Test it a few times to make sure it works."
   ]
  },
  {
   "cell_type": "code",
   "execution_count": 20,
   "metadata": {},
   "outputs": [
    {
     "name": "stdout",
     "output_type": "stream",
     "text": [
      "test\n",
      "Guess a number between 1 and 100-5\n",
      "-5\n",
      "test\n",
      "Guess a number between 1 and 100-0\n",
      "0\n",
      "test\n",
      "Guess a number between 1 and 100202\n",
      "202\n",
      "test\n",
      "Guess a number between 1 and 100101\n",
      "101\n",
      "test\n",
      "Guess a number between 1 and 100100\n",
      "100\n"
     ]
    }
   ],
   "source": [
    "x = 0\n",
    "while x < 10:\n",
    "    guess = int(input(\"Guess a number between 1 and 100\"))\n",
    "    if guess >= 1 and guess <= 100:\n",
    "        x = 10\n",
    "    else:\n",
    "        x+=1"
   ]
  },
  {
   "cell_type": "markdown",
   "metadata": {},
   "source": [
    "#### Write a `while` loop that compares the player's guess to our number. If the player guesses correctly, break from the loop. Otherwise, tell the player if they're warmer or colder, and continue asking for guesses.\n",
    "\n",
    "Some hints:\n",
    "* it may help to sketch out all possible combinations on paper first!\n",
    "* you can use the `abs()` function to find the positive difference between two numbers\n",
    "* if you append all new guesses to the list, then the previous guess is given as `guesses[-2]`"
   ]
  },
  {
   "cell_type": "code",
   "execution_count": 10,
   "metadata": {},
   "outputs": [
    {
     "name": "stdout",
     "output_type": "stream",
     "text": [
      "Guess a number between 1 and 100, type -999 to quit\n",
      "50\n",
      "COLD!\n",
      "Guess a number between 1 and 100, type -999 to quit\n",
      "480\n",
      "OUT OF BOUNDS, please pick a number between 1 and 100\n",
      "Guess a number between 1 and 100, type -999 to quit\n",
      "80\n",
      "WARMER!\n",
      "Guess a number between 1 and 100, type -999 to quit\n",
      "70\n",
      "COLDER!\n",
      "Guess a number between 1 and 100, type -999 to quit\n",
      "90\n",
      "WARMER!\n",
      "Guess a number between 1 and 100, type -999 to quit\n",
      "95\n",
      "COLDER!\n",
      "Guess a number between 1 and 100, type -999 to quit\n",
      "85\n",
      "WARMER!\n",
      "Guess a number between 1 and 100, type -999 to quit\n",
      "86\n",
      "COLDER!\n",
      "Guess a number between 1 and 100, type -999 to quit\n",
      "82\n",
      "WARMER!\n",
      "Guess a number between 1 and 100, type -999 to quit\n",
      "81\n",
      "COLDER!\n",
      "Guess a number between 1 and 100, type -999 to quit\n",
      "83\n",
      "You guessed correctly! Congrats! It took you 10 guesses\n"
     ]
    }
   ],
   "source": [
    "import random\n",
    "rand = random.randint(1,100)\n",
    "guesses = []\n",
    "\n",
    "while True:\n",
    "    guess = int(input(\"Guess a number between 1 and 100, type -999 to quit\\n\"))    \n",
    "    if guess >= 1 and guess <= 100:\n",
    "        guesses.append(guess)\n",
    "        if guess == rand:\n",
    "            print(\"You guessed correctly! Congrats! It took you \" + str(len(guesses)) + \" guesses\")\n",
    "            break\n",
    "        elif len(guesses) == 1 and abs(guess - rand) <= 10:\n",
    "            print(\"WARM!\")\n",
    "        elif len(guesses) == 1 and abs(guess - rand) > 10:\n",
    "            print(\"COLD!\")   \n",
    "        elif len(guesses) != 1 and abs(guess - rand) < abs(guesses[-2] - rand):\n",
    "            print(\"WARMER!\")  \n",
    "        else:\n",
    "            print(\"COLDER!\")\n",
    "    elif guess == -999:\n",
    "        break;\n",
    "    else:\n",
    "        print(\"OUT OF BOUNDS, please pick a number between 1 and 100\")\n",
    "   "
   ]
  }
 ],
 "metadata": {
  "kernelspec": {
   "display_name": "Python 3",
   "language": "python",
   "name": "python3"
  },
  "language_info": {
   "codemirror_mode": {
    "name": "ipython",
    "version": 3
   },
   "file_extension": ".py",
   "mimetype": "text/x-python",
   "name": "python",
   "nbconvert_exporter": "python",
   "pygments_lexer": "ipython3",
   "version": "3.7.4"
  }
 },
 "nbformat": 4,
 "nbformat_minor": 2
}
