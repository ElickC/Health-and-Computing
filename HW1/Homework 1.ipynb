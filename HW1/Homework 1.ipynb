{
 "cells": [
  {
   "cell_type": "code",
   "execution_count": 1,
   "metadata": {},
   "outputs": [],
   "source": [
    "one = 1"
   ]
  },
  {
   "cell_type": "code",
   "execution_count": 2,
   "metadata": {},
   "outputs": [],
   "source": [
    "two = 2\n",
    "some_number = 10000"
   ]
  },
  {
   "cell_type": "code",
   "execution_count": 3,
   "metadata": {},
   "outputs": [],
   "source": [
    "# booleans\n",
    "true_boolean = True\n",
    "false_boolean = False\n",
    "\n",
    "# string\n",
    "my_name = \"Leandro Tk\"\n",
    "\n",
    "# float\n",
    "book_price = 15.80"
   ]
  },
  {
   "cell_type": "code",
   "execution_count": 4,
   "metadata": {},
   "outputs": [
    {
     "name": "stdout",
     "output_type": "stream",
     "text": [
      "Hello Python If\n",
      "2 is greater than 1\n"
     ]
    }
   ],
   "source": [
    "if True:\n",
    "  print(\"Hello Python If\")\n",
    "\n",
    "if 2 > 1:\n",
    "  print(\"2 is greater than 1\")"
   ]
  },
  {
   "cell_type": "code",
   "execution_count": 5,
   "metadata": {},
   "outputs": [
    {
     "name": "stdout",
     "output_type": "stream",
     "text": [
      "1 is not greater than 2\n"
     ]
    }
   ],
   "source": [
    "if 1 > 2:\n",
    "  print(\"1 is greater than 2\")\n",
    "else:\n",
    "  print(\"1 is not greater than 2\")"
   ]
  },
  {
   "cell_type": "code",
   "execution_count": 6,
   "metadata": {},
   "outputs": [
    {
     "name": "stdout",
     "output_type": "stream",
     "text": [
      "1 is not greater than 2\n"
     ]
    }
   ],
   "source": [
    "if 1 > 2:\n",
    "  print(\"1 is greater than 2\")\n",
    "elif 2 > 1:\n",
    "  print(\"1 is not greater than 2\")\n",
    "else:\n",
    "  print(\"1 is equal to 2\")"
   ]
  },
  {
   "cell_type": "code",
   "execution_count": 7,
   "metadata": {},
   "outputs": [
    {
     "name": "stdout",
     "output_type": "stream",
     "text": [
      "1\n",
      "2\n",
      "3\n",
      "4\n",
      "5\n",
      "6\n",
      "7\n",
      "8\n",
      "9\n",
      "10\n"
     ]
    }
   ],
   "source": [
    "num = 1\n",
    "\n",
    "while num <= 10:\n",
    "    print(num)\n",
    "    num += 1"
   ]
  },
  {
   "cell_type": "code",
   "execution_count": 8,
   "metadata": {},
   "outputs": [
    {
     "name": "stdout",
     "output_type": "stream",
     "text": [
      "Loop Condition keeps: True\n"
     ]
    }
   ],
   "source": [
    "loop_condition = True\n",
    "\n",
    "while loop_condition:\n",
    "    print(\"Loop Condition keeps: %s\" %(loop_condition))\n",
    "    loop_condition = False"
   ]
  },
  {
   "cell_type": "code",
   "execution_count": 9,
   "metadata": {},
   "outputs": [
    {
     "name": "stdout",
     "output_type": "stream",
     "text": [
      "1\n",
      "2\n",
      "3\n",
      "4\n",
      "5\n",
      "6\n",
      "7\n",
      "8\n",
      "9\n",
      "10\n"
     ]
    }
   ],
   "source": [
    "for i in range(1, 11):\n",
    "  print(i)"
   ]
  },
  {
   "cell_type": "code",
   "execution_count": 10,
   "metadata": {},
   "outputs": [],
   "source": [
    "my_integers = [1, 2, 3, 4, 5]"
   ]
  },
  {
   "cell_type": "code",
   "execution_count": 11,
   "metadata": {},
   "outputs": [
    {
     "name": "stdout",
     "output_type": "stream",
     "text": [
      "5\n",
      "7\n",
      "4\n"
     ]
    }
   ],
   "source": [
    "my_integers = [5, 7, 1, 3, 4]\n",
    "print(my_integers[0]) # 5\n",
    "print(my_integers[1]) # 7\n",
    "print(my_integers[4]) # 4"
   ]
  },
  {
   "cell_type": "code",
   "execution_count": 12,
   "metadata": {},
   "outputs": [
    {
     "name": "stdout",
     "output_type": "stream",
     "text": [
      "Ruth\n"
     ]
    }
   ],
   "source": [
    "relatives_names = [\n",
    "  \"Karen\",\n",
    "  \"Steve\",\n",
    "  \"Mars\",\n",
    "  \"Mel\",\n",
    "  \"Ruth\",\n",
    "  \"Bob\"\n",
    "]\n",
    "\n",
    "print(relatives_names[4]) # Ruth"
   ]
  },
  {
   "cell_type": "code",
   "execution_count": 13,
   "metadata": {},
   "outputs": [
    {
     "name": "stdout",
     "output_type": "stream",
     "text": [
      "The Effective Engineer\n",
      "The 4 Hour Work Week\n"
     ]
    }
   ],
   "source": [
    "bookshelf = []\n",
    "bookshelf.append(\"The Effective Engineer\")\n",
    "bookshelf.append(\"The 4 Hour Work Week\")\n",
    "print(bookshelf[0]) # The Effective Engineer\n",
    "print(bookshelf[1]) # The 4 Hour Work Week"
   ]
  },
  {
   "cell_type": "code",
   "execution_count": 15,
   "metadata": {},
   "outputs": [],
   "source": [
    "dictionary_example = {\n",
    "  \"key1\": \"value1\",\n",
    "  \"key2\": \"value2\",\n",
    "  \"key3\": \"value3\"\n",
    "}"
   ]
  },
  {
   "cell_type": "code",
   "execution_count": 17,
   "metadata": {},
   "outputs": [
    {
     "name": "stdout",
     "output_type": "stream",
     "text": [
      "My name is Leandro\n",
      "But you can call me Tk\n",
      "And by the way I'm Brazilian\n"
     ]
    }
   ],
   "source": [
    "dictionary_tk = {\n",
    "  \"name\": \"Leandro\",\n",
    "  \"nickname\": \"Tk\",\n",
    "  \"nationality\": \"Brazilian\"\n",
    "}\n",
    "\n",
    "print(\"My name is %s\" %(dictionary_tk[\"name\"])) # My name is Leandro\n",
    "print(\"But you can call me %s\" %(dictionary_tk[\"nickname\"])) # But you can call me Tk\n",
    "print(\"And by the way I'm %s\" %(dictionary_tk[\"nationality\"])) # And by the way I'm Brazilian\n"
   ]
  },
  {
   "cell_type": "code",
   "execution_count": 19,
   "metadata": {},
   "outputs": [
    {
     "name": "stdout",
     "output_type": "stream",
     "text": [
      "My name is Leandro\n",
      "But you can call me Tk\n",
      "And by the way I'm 24 and Brazilian\n"
     ]
    }
   ],
   "source": [
    "dictionary_tk = {\n",
    "  \"name\": \"Leandro\",\n",
    "  \"nickname\": \"Tk\",\n",
    "  \"nationality\": \"Brazilian\",\n",
    "  \"age\": 24\n",
    "}\n",
    "\n",
    "print(\"My name is %s\" %(dictionary_tk[\"name\"])) # My name is Leandro\n",
    "print(\"But you can call me %s\" %(dictionary_tk[\"nickname\"])) # But you can call me Tk\n",
    "print(\"And by the way I'm %i and %s\" %(dictionary_tk[\"age\"], dictionary_tk[\"nationality\"])) # And by the way I'm Brazilian\n"
   ]
  },
  {
   "cell_type": "code",
   "execution_count": 20,
   "metadata": {},
   "outputs": [
    {
     "name": "stdout",
     "output_type": "stream",
     "text": [
      "{'name': 'Leandro', 'nickname': 'Tk', 'nationality': 'Brazilian', 'age': 24}\n"
     ]
    }
   ],
   "source": [
    "dictionary_tk = {\n",
    "  \"name\": \"Leandro\",\n",
    "  \"nickname\": \"Tk\",\n",
    "  \"nationality\": \"Brazilian\"\n",
    "}\n",
    "\n",
    "dictionary_tk['age'] = 24\n",
    "\n",
    "print(dictionary_tk) # {'nationality': 'Brazilian', 'age': 24, 'nickname': 'Tk', 'name': 'Leandro'}\n"
   ]
  },
  {
   "cell_type": "code",
   "execution_count": 21,
   "metadata": {},
   "outputs": [
    {
     "name": "stdout",
     "output_type": "stream",
     "text": [
      "The Effective Engineer\n",
      "The 4 hours work week\n",
      "Zero to One\n",
      "Lean Startup\n",
      "Hooked\n"
     ]
    }
   ],
   "source": [
    "bookshelf = [\n",
    "  \"The Effective Engineer\",\n",
    "  \"The 4 hours work week\",\n",
    "  \"Zero to One\",\n",
    "  \"Lean Startup\",\n",
    "  \"Hooked\"\n",
    "]\n",
    "\n",
    "for book in bookshelf:\n",
    "    print(book)"
   ]
  },
  {
   "cell_type": "code",
   "execution_count": 22,
   "metadata": {},
   "outputs": [
    {
     "name": "stdout",
     "output_type": "stream",
     "text": [
      "some_key --> some_value\n"
     ]
    }
   ],
   "source": [
    "dictionary = { \"some_key\": \"some_value\" }\n",
    "\n",
    "for key in dictionary:\n",
    "    print(\"%s --> %s\" %(key, dictionary[key]))\n",
    "    \n",
    "# some_key --> some_value"
   ]
  },
  {
   "cell_type": "code",
   "execution_count": 23,
   "metadata": {},
   "outputs": [
    {
     "name": "stdout",
     "output_type": "stream",
     "text": [
      "some_key --> some_value\n"
     ]
    }
   ],
   "source": [
    "dictionary = { \"some_key\": \"some_value\" }\n",
    "\n",
    "for key, value in dictionary.items():\n",
    "    print(\"%s --> %s\" %(key, value))\n",
    "\n",
    "# some_key --> some_value"
   ]
  },
  {
   "cell_type": "code",
   "execution_count": 24,
   "metadata": {},
   "outputs": [
    {
     "name": "stdout",
     "output_type": "stream",
     "text": [
      "My name is Leandro\n",
      "My nickname is Tk\n",
      "My nationality is Brazilian\n",
      "My age is 24\n"
     ]
    }
   ],
   "source": [
    "dictionary_tk = {\n",
    "  \"name\": \"Leandro\",\n",
    "  \"nickname\": \"Tk\",\n",
    "  \"nationality\": \"Brazilian\",\n",
    "  \"age\": 24\n",
    "}\n",
    "\n",
    "for attribute, value in dictionary_tk.items():\n",
    "    print(\"My %s is %s\" %(attribute, value))\n",
    "    \n",
    "# My name is Leandro\n",
    "# My nickname is Tk\n",
    "# My nationality is Brazilian\n",
    "# My age is 24"
   ]
  },
  {
   "cell_type": "code",
   "execution_count": 25,
   "metadata": {},
   "outputs": [],
   "source": [
    "class Vehicle:\n",
    "    pass"
   ]
  },
  {
   "cell_type": "code",
   "execution_count": 28,
   "metadata": {},
   "outputs": [
    {
     "name": "stdout",
     "output_type": "stream",
     "text": [
      "<__main__.Vehicle object at 0x00000143514B8248>\n"
     ]
    }
   ],
   "source": [
    "car = Vehicle()\n",
    "print(car) # <__main__.Vehicle instance at 0x00000143514B6548>"
   ]
  },
  {
   "cell_type": "code",
   "execution_count": 29,
   "metadata": {},
   "outputs": [],
   "source": [
    "class Vehicle:\n",
    "    def __init__(self, number_of_wheels, type_of_tank, seating_capacity, maximum_velocity):\n",
    "        self.number_of_wheels = number_of_wheels\n",
    "        self.type_of_tank = type_of_tank\n",
    "        self.seating_capacity = seating_capacity\n",
    "        self.maximum_velocity = maximum_velocity"
   ]
  },
  {
   "cell_type": "code",
   "execution_count": 30,
   "metadata": {},
   "outputs": [],
   "source": [
    "tesla_model_s = Vehicle(4, 'electric', 5, 250)"
   ]
  },
  {
   "cell_type": "code",
   "execution_count": 31,
   "metadata": {},
   "outputs": [],
   "source": [
    "class Vehicle:\n",
    "    def __init__(self, number_of_wheels, type_of_tank, seating_capacity, maximum_velocity):\n",
    "        self.number_of_wheels = number_of_wheels\n",
    "        self.type_of_tank = type_of_tank\n",
    "        self.seating_capacity = seating_capacity\n",
    "        self.maximum_velocity = maximum_velocity\n",
    "\n",
    "    def number_of_wheels(self):\n",
    "        return self.number_of_wheels\n",
    "\n",
    "    def set_number_of_wheels(self, number):\n",
    "        self.number_of_wheels = number"
   ]
  },
  {
   "cell_type": "code",
   "execution_count": 32,
   "metadata": {},
   "outputs": [],
   "source": [
    "class Vehicle:\n",
    "    def __init__(self, number_of_wheels, type_of_tank, seating_capacity, maximum_velocity):\n",
    "        self.number_of_wheels = number_of_wheels\n",
    "        self.type_of_tank = type_of_tank\n",
    "        self.seating_capacity = seating_capacity\n",
    "        self.maximum_velocity = maximum_velocity\n",
    "    \n",
    "    @property\n",
    "    def number_of_wheels(self):\n",
    "        return self.__number_of_wheels\n",
    "    \n",
    "    @number_of_wheels.setter\n",
    "    def number_of_wheels(self, number):\n",
    "        self.__number_of_wheels = number"
   ]
  },
  {
   "cell_type": "code",
   "execution_count": 33,
   "metadata": {},
   "outputs": [
    {
     "name": "stdout",
     "output_type": "stream",
     "text": [
      "4\n",
      "2\n"
     ]
    }
   ],
   "source": [
    "tesla_model_s = Vehicle(4, 'electric', 5, 250)\n",
    "print(tesla_model_s.number_of_wheels) # 4\n",
    "tesla_model_s.number_of_wheels = 2 # setting number of wheels to 2\n",
    "print(tesla_model_s.number_of_wheels) # 2"
   ]
  },
  {
   "cell_type": "code",
   "execution_count": 34,
   "metadata": {},
   "outputs": [],
   "source": [
    "class Vehicle:\n",
    "    def __init__(self, number_of_wheels, type_of_tank, seating_capacity, maximum_velocity):\n",
    "        self.number_of_wheels = number_of_wheels\n",
    "        self.type_of_tank = type_of_tank\n",
    "        self.seating_capacity = seating_capacity\n",
    "        self.maximum_velocity = maximum_velocity\n",
    "\n",
    "    def make_noise(self):\n",
    "        print('VRUUUUUUUM')"
   ]
  },
  {
   "cell_type": "code",
   "execution_count": 35,
   "metadata": {},
   "outputs": [
    {
     "name": "stdout",
     "output_type": "stream",
     "text": [
      "VRUUUUUUUM\n"
     ]
    }
   ],
   "source": [
    "tesla_model_s = Vehicle(4, 'electric', 5, 250)\n",
    "tesla_model_s.make_noise() # VRUUUUUUUM"
   ]
  },
  {
   "cell_type": "code",
   "execution_count": 36,
   "metadata": {},
   "outputs": [],
   "source": [
    "class Person:\n",
    "    def __init__(self, first_name):\n",
    "        self.first_name = first_name"
   ]
  },
  {
   "cell_type": "code",
   "execution_count": 37,
   "metadata": {},
   "outputs": [
    {
     "name": "stdout",
     "output_type": "stream",
     "text": [
      "TK\n"
     ]
    }
   ],
   "source": [
    "tk = Person('TK')\n",
    "print(tk.first_name) # => TK"
   ]
  },
  {
   "cell_type": "code",
   "execution_count": 38,
   "metadata": {},
   "outputs": [],
   "source": [
    "class Person:\n",
    "    first_name = 'TK'"
   ]
  },
  {
   "cell_type": "code",
   "execution_count": 39,
   "metadata": {},
   "outputs": [
    {
     "name": "stdout",
     "output_type": "stream",
     "text": [
      "TK\n"
     ]
    }
   ],
   "source": [
    "tk = Person()\n",
    "print(tk.first_name) # => TK"
   ]
  },
  {
   "cell_type": "code",
   "execution_count": 42,
   "metadata": {},
   "outputs": [
    {
     "name": "stdout",
     "output_type": "stream",
     "text": [
      "Kaio\n"
     ]
    }
   ],
   "source": [
    "class Person:\n",
    "    def __init__(self, first_name):\n",
    "        self.first_name = first_name\n",
    "tk = Person('TK')\n",
    "tk.first_name = 'Kaio'\n",
    "print(tk.first_name) # => Kaio"
   ]
  },
  {
   "cell_type": "code",
   "execution_count": 43,
   "metadata": {},
   "outputs": [
    {
     "name": "stdout",
     "output_type": "stream",
     "text": [
      "tk@mail.com\n"
     ]
    }
   ],
   "source": [
    "class Person:\n",
    "    def __init__(self, first_name, email):\n",
    "        self.first_name = first_name\n",
    "        self._email = email\n",
    "        \n",
    "tk = Person('TK', 'tk@mail.com')\n",
    "print(tk._email) # tk@mail.com"
   ]
  },
  {
   "cell_type": "code",
   "execution_count": 44,
   "metadata": {},
   "outputs": [],
   "source": [
    "class Person:\n",
    "    def __init__(self, first_name, email):\n",
    "        self.first_name = first_name\n",
    "        self._email = email\n",
    "\n",
    "    def update_email(self, new_email):\n",
    "        self._email = new_email\n",
    "\n",
    "    def email(self):\n",
    "        return self._email"
   ]
  },
  {
   "cell_type": "code",
   "execution_count": 45,
   "metadata": {},
   "outputs": [
    {
     "name": "stdout",
     "output_type": "stream",
     "text": [
      "tk@mail.com\n",
      "tk@mail.com\n",
      "new_tk@mail.com\n"
     ]
    }
   ],
   "source": [
    "tk = Person('TK', 'tk@mail.com')\n",
    "print(tk.email()) # => tk@mail.com\n",
    "# tk._email = 'new_tk@mail.com' -- treat as a non-public part of the class API\n",
    "print(tk.email()) # => tk@mail.com\n",
    "tk.update_email('new_tk@mail.com')\n",
    "print(tk.email()) # => new_tk@mail.com"
   ]
  },
  {
   "cell_type": "code",
   "execution_count": 46,
   "metadata": {},
   "outputs": [],
   "source": [
    "class Person:\n",
    "    def __init__(self, first_name, age):\n",
    "        self.first_name = first_name\n",
    "        self._age = age\n",
    "\n",
    "    def show_age(self):\n",
    "        return self._age"
   ]
  },
  {
   "cell_type": "code",
   "execution_count": 47,
   "metadata": {},
   "outputs": [
    {
     "name": "stdout",
     "output_type": "stream",
     "text": [
      "25\n"
     ]
    }
   ],
   "source": [
    "tk = Person('TK', 25)\n",
    "print(tk.show_age()) # => 25"
   ]
  },
  {
   "cell_type": "code",
   "execution_count": 48,
   "metadata": {},
   "outputs": [],
   "source": [
    "class Person:\n",
    "    def __init__(self, first_name, age):\n",
    "        self.first_name = first_name\n",
    "        self._age = age\n",
    "\n",
    "    def _show_age(self):\n",
    "        return self._age"
   ]
  },
  {
   "cell_type": "code",
   "execution_count": 49,
   "metadata": {},
   "outputs": [
    {
     "name": "stdout",
     "output_type": "stream",
     "text": [
      "25\n"
     ]
    }
   ],
   "source": [
    "tk = Person('TK', 25)\n",
    "print(tk._show_age()) # => 25"
   ]
  },
  {
   "cell_type": "code",
   "execution_count": 50,
   "metadata": {},
   "outputs": [
    {
     "name": "stdout",
     "output_type": "stream",
     "text": [
      "25\n"
     ]
    }
   ],
   "source": [
    "class Person:\n",
    "    def __init__(self, first_name, age):\n",
    "        self.first_name = first_name\n",
    "        self._age = age\n",
    "\n",
    "    def show_age(self):\n",
    "        return self._get_age()\n",
    "\n",
    "    def _get_age(self):\n",
    "        return self._age\n",
    "\n",
    "tk = Person('TK', 25)\n",
    "print(tk.show_age()) # => 25"
   ]
  },
  {
   "cell_type": "code",
   "execution_count": 51,
   "metadata": {},
   "outputs": [],
   "source": [
    "class Car:\n",
    "    def __init__(self, number_of_wheels, seating_capacity, maximum_velocity):\n",
    "        self.number_of_wheels = number_of_wheels\n",
    "        self.seating_capacity = seating_capacity\n",
    "        self.maximum_velocity = maximum_velocity"
   ]
  },
  {
   "cell_type": "code",
   "execution_count": 52,
   "metadata": {},
   "outputs": [
    {
     "name": "stdout",
     "output_type": "stream",
     "text": [
      "4\n",
      "5\n",
      "250\n"
     ]
    }
   ],
   "source": [
    "my_car = Car(4, 5, 250)\n",
    "print(my_car.number_of_wheels)\n",
    "print(my_car.seating_capacity)\n",
    "print(my_car.maximum_velocity)"
   ]
  },
  {
   "cell_type": "code",
   "execution_count": 53,
   "metadata": {},
   "outputs": [],
   "source": [
    "class ElectricCar(Car):\n",
    "    def __init__(self, number_of_wheels, seating_capacity, maximum_velocity):\n",
    "        Car.__init__(self, number_of_wheels, seating_capacity, maximum_velocity)"
   ]
  },
  {
   "cell_type": "code",
   "execution_count": 54,
   "metadata": {},
   "outputs": [
    {
     "name": "stdout",
     "output_type": "stream",
     "text": [
      "4\n",
      "5\n",
      "250\n"
     ]
    }
   ],
   "source": [
    "my_electric_car = ElectricCar(4, 5, 250)\n",
    "print(my_electric_car.number_of_wheels) # => 4\n",
    "print(my_electric_car.seating_capacity) # => 5\n",
    "print(my_electric_car.maximum_velocity) # => 250"
   ]
  }
 ],
 "metadata": {
  "kernelspec": {
   "display_name": "Python 3",
   "language": "python",
   "name": "python3"
  },
  "language_info": {
   "codemirror_mode": {
    "name": "ipython",
    "version": 3
   },
   "file_extension": ".py",
   "mimetype": "text/x-python",
   "name": "python",
   "nbconvert_exporter": "python",
   "pygments_lexer": "ipython3",
   "version": "3.7.4"
  }
 },
 "nbformat": 4,
 "nbformat_minor": 2
}
